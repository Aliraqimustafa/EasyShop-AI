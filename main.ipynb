{
 "cells": [
  {
   "cell_type": "code",
   "execution_count": 1,
   "id": "6b160580",
   "metadata": {},
   "outputs": [],
   "source": [
    "# pip install tabulate faiss-cpu "
   ]
  },
  {
   "cell_type": "markdown",
   "id": "7609a70a",
   "metadata": {},
   "source": [
    "### Load DataBase"
   ]
  },
  {
   "cell_type": "code",
   "execution_count": 2,
   "id": "d9c47842",
   "metadata": {},
   "outputs": [],
   "source": [
    "import requests\n",
    "\n",
    "path = 'data.txt'\n",
    "url = 'https://raw.githubusercontent.com/Aliraqimustafa/EasyShop-AI/main/data.txt'\n",
    "\n",
    "\n",
    "r = requests.get(url)\n",
    "with open(path,'wb') as f:\n",
    "    f.write(r.content)"
   ]
  },
  {
   "cell_type": "code",
   "execution_count": 3,
   "id": "2bfb2125",
   "metadata": {},
   "outputs": [
    {
     "data": {
      "text/html": [
       "<div>\n",
       "<style scoped>\n",
       "    .dataframe tbody tr th:only-of-type {\n",
       "        vertical-align: middle;\n",
       "    }\n",
       "\n",
       "    .dataframe tbody tr th {\n",
       "        vertical-align: top;\n",
       "    }\n",
       "\n",
       "    .dataframe thead th {\n",
       "        text-align: right;\n",
       "    }\n",
       "</style>\n",
       "<table border=\"1\" class=\"dataframe\">\n",
       "  <thead>\n",
       "    <tr style=\"text-align: right;\">\n",
       "      <th></th>\n",
       "      <th>Product name</th>\n",
       "      <th>Product price</th>\n",
       "      <th>Product description</th>\n",
       "      <th>Brand</th>\n",
       "    </tr>\n",
       "  </thead>\n",
       "  <tbody>\n",
       "    <tr>\n",
       "      <th>0</th>\n",
       "      <td>Laptop</td>\n",
       "      <td>799.0</td>\n",
       "      <td>High-performance laptop with Intel Core i7 pro...</td>\n",
       "      <td>Dell</td>\n",
       "    </tr>\n",
       "    <tr>\n",
       "      <th>1</th>\n",
       "      <td>Smartwatch</td>\n",
       "      <td>249.0</td>\n",
       "      <td>Fitness smartwatch with heart rate monitoring,...</td>\n",
       "      <td>Fitbit</td>\n",
       "    </tr>\n",
       "    <tr>\n",
       "      <th>2</th>\n",
       "      <td>Headphones</td>\n",
       "      <td>149.0</td>\n",
       "      <td>Noise-cancelling Bluetooth headphones with cri...</td>\n",
       "      <td>Bose</td>\n",
       "    </tr>\n",
       "    <tr>\n",
       "      <th>3</th>\n",
       "      <td>Camera</td>\n",
       "      <td>499.0</td>\n",
       "      <td>DSLR camera with 24MP sensor, interchangeable ...</td>\n",
       "      <td>Canon</td>\n",
       "    </tr>\n",
       "    <tr>\n",
       "      <th>4</th>\n",
       "      <td>Printer</td>\n",
       "      <td>119.0</td>\n",
       "      <td>Compact wireless printer with AirPrint, auto-d...</td>\n",
       "      <td>HP</td>\n",
       "    </tr>\n",
       "  </tbody>\n",
       "</table>\n",
       "</div>"
      ],
      "text/plain": [
       "  Product name  Product price  \\\n",
       "0       Laptop          799.0   \n",
       "1   Smartwatch          249.0   \n",
       "2   Headphones          149.0   \n",
       "3       Camera          499.0   \n",
       "4      Printer          119.0   \n",
       "\n",
       "                                 Product description   Brand  \n",
       "0  High-performance laptop with Intel Core i7 pro...    Dell  \n",
       "1  Fitness smartwatch with heart rate monitoring,...  Fitbit  \n",
       "2  Noise-cancelling Bluetooth headphones with cri...    Bose  \n",
       "3  DSLR camera with 24MP sensor, interchangeable ...   Canon  \n",
       "4  Compact wireless printer with AirPrint, auto-d...      HP  "
      ]
     },
     "execution_count": 3,
     "metadata": {},
     "output_type": "execute_result"
    }
   ],
   "source": [
    "import pandas as pd\n",
    "import numpy as np\n",
    "\n",
    "df = pd.read_csv('data.txt').drop_duplicates()\n",
    "df.head()"
   ]
  },
  {
   "cell_type": "code",
   "execution_count": 4,
   "id": "45598b3e",
   "metadata": {},
   "outputs": [
    {
     "data": {
      "text/plain": [
       "(164, 4)"
      ]
     },
     "execution_count": 4,
     "metadata": {},
     "output_type": "execute_result"
    }
   ],
   "source": [
    "df.shape"
   ]
  },
  {
   "cell_type": "markdown",
   "id": "533dc1c6",
   "metadata": {},
   "source": [
    "### Search Engain\n",
    "1. by name\n",
    "2. by description\n",
    "3. by price\n",
    "4. Optional[by Brand]"
   ]
  },
  {
   "cell_type": "code",
   "execution_count": 5,
   "id": "4644b419",
   "metadata": {},
   "outputs": [],
   "source": [
    "from langchain.vectorstores import FAISS\n",
    "from langchain.embeddings import OpenAIEmbeddings\n",
    "from langchain.docstore.document import Document\n",
    "\n",
    "embeddings = OpenAIEmbeddings()"
   ]
  },
  {
   "cell_type": "code",
   "execution_count": 6,
   "id": "84f1f59e",
   "metadata": {},
   "outputs": [],
   "source": [
    "names = df['Product name'].apply(lambda x : x.lower()).values\n",
    "descriptions = df['Product description'].apply(lambda x : x.lower()).values\n",
    "prices = df['Product price'].values\n",
    "brand = df['Brand'].apply(lambda x : x.lower()).values"
   ]
  },
  {
   "cell_type": "markdown",
   "id": "f13db1aa",
   "metadata": {},
   "source": [
    "### Convert Database to Document"
   ]
  },
  {
   "cell_type": "code",
   "execution_count": 7,
   "id": "c68743bd",
   "metadata": {},
   "outputs": [],
   "source": [
    "def metadata(lst):\n",
    "    n_list = list(range(len(lst)))\n",
    "    price = []\n",
    "    for i in n_list:\n",
    "        _ = df.iloc[i]['Product price']\n",
    "        price.append(_)\n",
    "    return zip(lst , n_list , price)\n",
    "def _Document(i):\n",
    "    data = {\n",
    "        'page_content' : i[0],\n",
    "        'metadata' : {'n':i[1],'price':i[2]}\n",
    "    }\n",
    "    return Document(**data)"
   ]
  },
  {
   "cell_type": "code",
   "execution_count": 8,
   "id": "4a8ee3b5",
   "metadata": {},
   "outputs": [
    {
     "name": "stdout",
     "output_type": "stream",
     "text": [
      "[Document(page_content='laptop', metadata={'n': 0, 'price': 799.0}),\n",
      " Document(page_content='smartwatch', metadata={'n': 1, 'price': 249.0}),\n",
      " Document(page_content='headphones', metadata={'n': 2, 'price': 149.0})]\n",
      "\n"
     ]
    }
   ],
   "source": [
    "names_docs = [_Document(i) for i in metadata(names)]\n",
    "names_docs[:3]"
   ]
  },
  {
   "cell_type": "code",
   "execution_count": 9,
   "id": "fcdfeae8",
   "metadata": {},
   "outputs": [
    {
     "name": "stdout",
     "output_type": "stream",
     "text": [
      "[Document(page_content='high-performance laptop with intel core i7 processor, 16gb ram, and 512gb ssd storage.', metadata={'n': 0, 'price': 799.0}),\n",
      " Document(page_content='fitness smartwatch with heart rate monitoring, gps tracking, and 7-day battery life.', metadata={'n': 1, 'price': 249.0}),\n",
      " Document(page_content='noise-cancelling bluetooth headphones with crisp sound quality and 30-hour playtime.', metadata={'n': 2, 'price': 149.0})]\n"
     ]
    }
   ],
   "source": [
    "descriptions_docs = [_Document(i) for i in metadata(descriptions)]\n",
    "descriptions_docs[:3]"
   ]
  },
  {
   "cell_type": "markdown",
   "id": "47b7a42c",
   "metadata": {},
   "source": [
    "### Crate faiss database"
   ]
  },
  {
   "cell_type": "code",
   "execution_count": 11,
   "id": "8c0bfcb6",
   "metadata": {},
   "outputs": [],
   "source": [
    "### Save [database, knowledgebase]\n",
    "\n",
    "descriptions_db = FAISS.from_documents(documents = descriptions_docs ,embedding = embeddings )\n",
    "descriptions_db.save_local(folder_path ='descriptions_db' , index_name= 'descriptions')\n",
    "names_db = FAISS.from_documents(documents = names_docs ,embedding = embeddings )\n",
    "names_db.save_local(folder_path ='names_db' , index_name= 'names')"
   ]
  },
  {
   "cell_type": "code",
   "execution_count": 12,
   "id": "86649b34",
   "metadata": {},
   "outputs": [],
   "source": [
    "### Load [database, knowledgebase]\n",
    "\n",
    "descriptions_db = FAISS.load_local('descriptions_db',index_name= 'descriptions' , embeddings=embeddings)\n",
    "names_db = FAISS.load_local('names_db',index_name= 'names' , embeddings=embeddings)"
   ]
  },
  {
   "cell_type": "markdown",
   "id": "3f8fe75a",
   "metadata": {},
   "source": [
    "### Crate Functions to search in ` database or knowledgebase `"
   ]
  },
  {
   "cell_type": "code",
   "execution_count": 13,
   "id": "3dcd5b5c",
   "metadata": {},
   "outputs": [],
   "source": [
    "def search_name(name):\n",
    "    reriever_docs = names_db.similarity_search(query = name, k=50)\n",
    "    return reriever_docs\n",
    "\n",
    "def search_description(description,reriever_docs_names):\n",
    "    reriever_docs_names_n = [i.metadata['n']  for i in reriever_docs_names]\n",
    "    \n",
    "    reriever_docs = descriptions_db.similarity_search(query = description, k=50)\n",
    "    \n",
    "    indexes = []\n",
    "    for i,j in enumerate(reriever_docs):\n",
    "        if j.metadata['n'] in reriever_docs_names_n:\n",
    "            indexes.append(i)\n",
    "     \n",
    "    reriever_docs2 = []    \n",
    "    for i in indexes:\n",
    "        reriever_docs2.append(reriever_docs[i])\n",
    "    \n",
    "    return reriever_docs2\n",
    "\n",
    "def search_price(price,avrage,reriever_docs_description):\n",
    "    n_list = [i.metadata['n']  for i in reriever_docs_description]\n",
    "    price_list = [i.metadata['price']  for i in reriever_docs_description]\n",
    "    \n",
    "    \n",
    "    indexes = []\n",
    "    for j,i in enumerate(price_list):\n",
    "        if    price-avrage<i and i<price+avrage:\n",
    "            indexes.append(j)\n",
    "    \n",
    "    reriever_docs = []\n",
    "    for i in indexes:\n",
    "        reriever_docs.append(reriever_docs_description[i])\n",
    "    \n",
    "    return reriever_docs\n",
    "\n",
    "def final_search(result_search_price):\n",
    "    \n",
    "    indexes = []\n",
    "    for i in result_search_price:\n",
    "        _ = i.metadata['n']\n",
    "        indexes.append(_)\n",
    "    \n",
    "    results = []\n",
    "    for i in indexes:\n",
    "        _ = df.iloc[i:i+1]\n",
    "        results.append(_)\n",
    "    return pd.concat(results)\n",
    "\n",
    "def Search(product_name , product_description , product_Price , product_Price_delta ):\n",
    "    \n",
    "    \"\"\"\n",
    "    product_name : Name of Product\n",
    "    product_description : Description of Product\n",
    "    product_Price : The price you can pay to buy the produ\n",
    "    product_Price_delta : Value that can be added or subtracted from product_Price\n",
    "    \n",
    "    ًExample : \n",
    "        -----------------------------------\n",
    "        1- product_name : Laptop\n",
    "        2- product_description : laptop that's for gaming\n",
    "        3- product_Price : 600\n",
    "        4- product_Price_delta : 200\n",
    "        -----------------------------------\n",
    "        Step 1. : \n",
    "            1-  Search about 'Laptop' keyword in database\n",
    "        Step 2. : \n",
    "            1-  Search about 'laptop that's for gaming' description in database\n",
    "            2- Return results matching the description and product name\n",
    "        Step 3. : \n",
    "            1-  Return the identical results between the name and description of the product as well as the price that the user can pay on this product\n",
    "        Step 4. : \n",
    "            1- In the end, we return all the matched documents. \n",
    "        -----------------------------------\n",
    "    \"\"\"\n",
    "    _search_name = search_name(product_name)\n",
    "    _search_description = search_description(product_description , _search_name)\n",
    "    _search_price = search_price(product_Price , product_Price_delta , _search_description)\n",
    "    final_result = final_search(_search_price)\n",
    "    return {'Documents' : final_result}"
   ]
  },
  {
   "cell_type": "markdown",
   "id": "cb5f403f",
   "metadata": {},
   "source": [
    "### Test Search without AI"
   ]
  },
  {
   "cell_type": "code",
   "execution_count": 23,
   "id": "549899a2",
   "metadata": {},
   "outputs": [
    {
     "data": {
      "text/html": [
       "<div>\n",
       "<style scoped>\n",
       "    .dataframe tbody tr th:only-of-type {\n",
       "        vertical-align: middle;\n",
       "    }\n",
       "\n",
       "    .dataframe tbody tr th {\n",
       "        vertical-align: top;\n",
       "    }\n",
       "\n",
       "    .dataframe thead th {\n",
       "        text-align: right;\n",
       "    }\n",
       "</style>\n",
       "<table border=\"1\" class=\"dataframe\">\n",
       "  <thead>\n",
       "    <tr style=\"text-align: right;\">\n",
       "      <th></th>\n",
       "      <th>Product name</th>\n",
       "      <th>Product price</th>\n",
       "      <th>Product description</th>\n",
       "      <th>Brand</th>\n",
       "    </tr>\n",
       "  </thead>\n",
       "  <tbody>\n",
       "    <tr>\n",
       "      <th>0</th>\n",
       "      <td>Laptop</td>\n",
       "      <td>799.0</td>\n",
       "      <td>High-performance laptop with Intel Core i7 pro...</td>\n",
       "      <td>Dell</td>\n",
       "    </tr>\n",
       "    <tr>\n",
       "      <th>20</th>\n",
       "      <td>Gaming Console</td>\n",
       "      <td>699.0</td>\n",
       "      <td>Cutting edge gaming console with ray tracing, ...</td>\n",
       "      <td>Microsoft</td>\n",
       "    </tr>\n",
       "    <tr>\n",
       "      <th>195</th>\n",
       "      <td>Tablet</td>\n",
       "      <td>629.0</td>\n",
       "      <td>Detachable 2-in-1 tablet with 3000 x 2000 IPS ...</td>\n",
       "      <td>Microsoft Surface Pro 7</td>\n",
       "    </tr>\n",
       "    <tr>\n",
       "      <th>162</th>\n",
       "      <td>Tablet</td>\n",
       "      <td>629.0</td>\n",
       "      <td>Detachable 2-in-1 tablet with 3000 x 2000 IPS ...</td>\n",
       "      <td>Microsoft Surface Pro 7</td>\n",
       "    </tr>\n",
       "    <tr>\n",
       "      <th>26</th>\n",
       "      <td>Gaming Console</td>\n",
       "      <td>799.0</td>\n",
       "      <td>Ultra high speed gaming console with up to 8K ...</td>\n",
       "      <td>Microsoft</td>\n",
       "    </tr>\n",
       "  </tbody>\n",
       "</table>\n",
       "</div>"
      ],
      "text/plain": [
       "       Product name  Product price  \\\n",
       "0            Laptop          799.0   \n",
       "20   Gaming Console          699.0   \n",
       "195          Tablet          629.0   \n",
       "162          Tablet          629.0   \n",
       "26   Gaming Console          799.0   \n",
       "\n",
       "                                   Product description  \\\n",
       "0    High-performance laptop with Intel Core i7 pro...   \n",
       "20   Cutting edge gaming console with ray tracing, ...   \n",
       "195  Detachable 2-in-1 tablet with 3000 x 2000 IPS ...   \n",
       "162  Detachable 2-in-1 tablet with 3000 x 2000 IPS ...   \n",
       "26   Ultra high speed gaming console with up to 8K ...   \n",
       "\n",
       "                       Brand  \n",
       "0                       Dell  \n",
       "20                 Microsoft  \n",
       "195  Microsoft Surface Pro 7  \n",
       "162  Microsoft Surface Pro 7  \n",
       "26                 Microsoft  "
      ]
     },
     "execution_count": 23,
     "metadata": {},
     "output_type": "execute_result"
    }
   ],
   "source": [
    "Documents_final_result = Search(\n",
    "    product_name = \"laptop\",\n",
    "    product_description = \"laptop that's for gaming\",\n",
    "    product_Price = 600,\n",
    "    product_Price_delta = 200,)\n",
    "\n",
    "Documents_final_result = Documents_final_result['Documents']\n",
    "Documents_final_result.head()"
   ]
  },
  {
   "cell_type": "markdown",
   "id": "bf73a064",
   "metadata": {},
   "source": [
    "### Search with AI"
   ]
  },
  {
   "cell_type": "code",
   "execution_count": 24,
   "id": "02092a65",
   "metadata": {},
   "outputs": [],
   "source": [
    "import json\n",
    "from langchain.llms import OpenAI\n",
    "from langchain.memory import ConversationBufferMemory\n",
    "from langchain.agents import AgentType, initialize_agent\n",
    "from langchain.chains import LLMChain\n",
    "from langchain.tools import Tool\n",
    "from langchain import PromptTemplate\n",
    "llm = OpenAI(temperature=.0)\n",
    "memory = ConversationBufferMemory(memory_key='chat_history')\n",
    "agent_type = AgentType.CONVERSATIONAL_REACT_DESCRIPTION"
   ]
  },
  {
   "cell_type": "code",
   "execution_count": 25,
   "id": "006b6b29",
   "metadata": {},
   "outputs": [],
   "source": [
    "template = \\\n",
    "'''\\\n",
    "System : You are an ai assistant you should Extract the following key from Human message :\n",
    "    [product_name , product_description , product_Price , product_Price_delta]\n",
    "    and return a dict as json file.\n",
    "    Example : \n",
    "        query = Hello, I would like to buy a laptop with powerful specifications for gaming at a price between 600 and 900\n",
    "        -----------------------------------\n",
    "        result to search :\n",
    "        -----------------------------------\n",
    "        1- product_name : Laptop\n",
    "        2- product_description : laptop that's for gaming\n",
    "        3- product_Price : 600\n",
    "        4- product_Price_delta : 200\n",
    "        -----------------------------------\n",
    "        Step 1. : \n",
    "            1-  Search about 'Laptop' keyword in database\n",
    "        Step 2. : \n",
    "            1-  Search about 'laptop that's for gaming' description in database\n",
    "            2- Return results matching the description and product name\n",
    "        Step 3. : \n",
    "            1-  Return the identical results between the name and description of the product as well as the price that the user can pay on this product\n",
    "        Step 4. : \n",
    "            1- In the end, we return all the matched documents. \n",
    "        -----------------------------------\n",
    "Human message: {inputs}\n",
    "\n",
    "json file:'''"
   ]
  },
  {
   "cell_type": "code",
   "execution_count": 26,
   "id": "7a2d922b",
   "metadata": {},
   "outputs": [],
   "source": [
    "prompt_template = PromptTemplate(input_variables=['inputs'] ,template=template )\n",
    "llm_chain = LLMChain(llm=llm, verbose=False, prompt=prompt_template)"
   ]
  },
  {
   "cell_type": "code",
   "execution_count": 27,
   "id": "f16df5b0",
   "metadata": {},
   "outputs": [],
   "source": [
    "def Search_with_llm(text):\n",
    "    _ = llm_chain.run(inputs = text)\n",
    "    _2 = json.loads(_)\n",
    "    ## '_Search' is DataFrame\n",
    "    _Search = Search(**_2)['Documents']\n",
    "    index = list(_Search.index)\n",
    "    txt = 'Source is df.iloc[{n}]'\n",
    "    Source = [txt.format(n=n) for n in index]\n",
    "    _produc_name = _Search['Product name']\n",
    "    _produc_price = _Search['Product price']\n",
    "    _produc_description = _Search['Product description']\n",
    "    _produc_Brand = _Search['Brand']\n",
    "    \n",
    "    docs = zip(Source,_produc_name,_produc_price,_produc_description,_produc_Brand)\n",
    "    return list(docs) "
   ]
  },
  {
   "cell_type": "code",
   "execution_count": 29,
   "id": "74625aee",
   "metadata": {},
   "outputs": [],
   "source": [
    "_1 = llm_chain.run(inputs = 'Hello, I would like to buy a laptop with powerful specifications for gaming at a price between 600 and 900')\n"
   ]
  },
  {
   "cell_type": "code",
   "execution_count": 28,
   "id": "aa67fdab",
   "metadata": {},
   "outputs": [
    {
     "name": "stdout",
     "output_type": "stream",
     "text": [
      "{\n",
      "    \"product_name\": \"Laptop\",\n",
      "    \"product_description\": \"laptop that's for gaming\",\n",
      "    \"product_Price\": 600,\n",
      "    \"product_Price_delta\": 200\n",
      "}\n",
      "<class 'str'>\n"
     ]
    }
   ],
   "source": [
    "print(_1)\n",
    "print(type(_1))"
   ]
  },
  {
   "cell_type": "code",
   "execution_count": 33,
   "id": "1c06738e",
   "metadata": {},
   "outputs": [],
   "source": [
    "_json = json.loads(_1)"
   ]
  },
  {
   "cell_type": "code",
   "execution_count": 34,
   "id": "73764a90",
   "metadata": {},
   "outputs": [
    {
     "name": "stdout",
     "output_type": "stream",
     "text": [
      "{'product_name': 'Laptop', 'product_description': \"laptop that's for gaming\", 'product_Price': 600, 'product_Price_delta': 200}\n",
      "<class 'dict'>\n"
     ]
    }
   ],
   "source": [
    "print(_json)\n",
    "print(type(_json))"
   ]
  },
  {
   "cell_type": "markdown",
   "id": "f8310ced",
   "metadata": {},
   "source": [
    "### Test Search with AI "
   ]
  },
  {
   "cell_type": "code",
   "execution_count": 36,
   "id": "f7a9e6a0",
   "metadata": {},
   "outputs": [],
   "source": [
    "Docs_with_llm = \\\n",
    "Search_with_llm('Hello, I would like to buy a laptop with powerful specifications for gaming at a price between 600 and 900')"
   ]
  },
  {
   "cell_type": "code",
   "execution_count": 38,
   "id": "4a06ba19",
   "metadata": {},
   "outputs": [
    {
     "name": "stdout",
     "output_type": "stream",
     "text": [
      "[('Source is df.iloc[0]',\n",
      "  'Laptop',\n",
      "  799.0,\n",
      "  'High-performance laptop with Intel Core i7 processor, 16GB RAM, and 512GB SSD storage.',\n",
      "  'Dell'),\n",
      " ('Source is df.iloc[20]',\n",
      "  'Gaming Console',\n",
      "  699.0,\n",
      "  'Cutting edge gaming console with ray tracing, 4K gaming at 120 fps, ultra high speed SSD.',\n",
      "  'Microsoft'),\n",
      " ('Source is df.iloc[195]',\n",
      "  'Tablet',\n",
      "  629.0,\n",
      "  'Detachable 2-in-1 tablet with 3000 x 2000 IPS display,Intel Core i5 CPU, keyboard with touchpad.',\n",
      "  'Microsoft Surface Pro 7')]\n"
     ]
    }
   ],
   "source": [
    "print(Docs_with_llm[:3])"
   ]
  },
  {
   "cell_type": "code",
   "execution_count": 39,
   "id": "420cd5fd",
   "metadata": {},
   "outputs": [
    {
     "data": {
      "text/plain": [
       "15"
      ]
     },
     "execution_count": 39,
     "metadata": {},
     "output_type": "execute_result"
    }
   ],
   "source": [
    "len(Docs_with_llm)"
   ]
  },
  {
   "cell_type": "markdown",
   "id": "c031da6b",
   "metadata": {},
   "source": [
    "### Final Search with AI `EsayShop AI Agent`"
   ]
  },
  {
   "cell_type": "code",
   "execution_count": 40,
   "id": "ae482035",
   "metadata": {},
   "outputs": [],
   "source": [
    "tools = [\n",
    "    Tool.from_function(\n",
    "        func=Search_with_llm,\n",
    "        name=\"Search_any_products\",\n",
    "        description=\"Useful when you want to answer questions about any products.\"\n",
    "    ),\n",
    "]"
   ]
  },
  {
   "cell_type": "code",
   "execution_count": 41,
   "id": "2f129c9a",
   "metadata": {},
   "outputs": [],
   "source": [
    "agent = initialize_agent(agent=agent_type, \n",
    "                         tools=tools, \n",
    "                         verbose=True,\n",
    "#                          memory=memory,\n",
    "                        llm =llm )"
   ]
  },
  {
   "cell_type": "code",
   "execution_count": 42,
   "id": "6717970e",
   "metadata": {},
   "outputs": [
    {
     "data": {
      "text/plain": [
       "['input', 'chat_history', 'agent_scratchpad']"
      ]
     },
     "execution_count": 42,
     "metadata": {},
     "output_type": "execute_result"
    }
   ],
   "source": [
    "agent.agent.llm_chain.prompt.input_variables"
   ]
  },
  {
   "cell_type": "code",
   "execution_count": 43,
   "id": "cde96116",
   "metadata": {},
   "outputs": [
    {
     "name": "stdout",
     "output_type": "stream",
     "text": [
      "Assistant is a large language model trained by OpenAI.\n",
      "\n",
      "Assistant is designed to be able to assist with a wide range of tasks, from answering simple questions to providing in-depth explanations and discussions on a wide range of topics. As a language model, Assistant is able to generate human-like text based on the input it receives, allowing it to engage in natural-sounding conversations and provide responses that are coherent and relevant to the topic at hand.\n",
      "\n",
      "Assistant is constantly learning and improving, and its capabilities are constantly evolving. It is able to process and understand large amounts of text, and can use this knowledge to provide accurate and informative responses to a wide range of questions. Additionally, Assistant is able to generate its own text based on the input it receives, allowing it to engage in discussions and provide explanations and descriptions on a wide range of topics.\n",
      "\n",
      "Overall, Assistant is a powerful tool that can help with a wide range of tasks and provide valuable insights and information on a wide range of topics. Whether you need help with a specific question or just want to have a conversation about a particular topic, Assistant is here to assist.\n",
      "\n",
      "TOOLS:\n",
      "------\n",
      "\n",
      "Assistant has access to the following tools:\n",
      "\n",
      "> Search_any_products: Useful when you want to answer questions about any products.\n",
      "\n",
      "To use a tool, please use the following format:\n",
      "\n",
      "```\n",
      "Thought: Do I need to use a tool? Yes\n",
      "Action: the action to take, should be one of [Search_any_products]\n",
      "Action Input: the input to the action\n",
      "Observation: the result of the action\n",
      "```\n",
      "\n",
      "When you have a response to say to the Human, or if you do not need to use a tool, you MUST use the format:\n",
      "\n",
      "```\n",
      "Thought: Do I need to use a tool? No\n",
      "AI: [your response here]\n",
      "```\n",
      "\n",
      "Begin!\n",
      "\n",
      "Previous conversation history:\n",
      "{chat_history}\n",
      "\n",
      "New input: {input}\n",
      "{agent_scratchpad}\n",
      "\n"
     ]
    }
   ],
   "source": [
    "print(agent.agent.llm_chain.prompt.template)"
   ]
  },
  {
   "cell_type": "code",
   "execution_count": 44,
   "id": "865c6e8e",
   "metadata": {},
   "outputs": [],
   "source": [
    "# if you comment memory in agent you should remove memory_key[chat_history] \n",
    "# from 'agent.agent.llm_chain.prompt.template' and agent.agent.llm_chain.prompt.input_variables\n",
    "# i have comment memory so i will remove memory_key from template and input_variables"
   ]
  },
  {
   "cell_type": "code",
   "execution_count": 45,
   "id": "0e38191b",
   "metadata": {},
   "outputs": [],
   "source": [
    "agent.agent.llm_chain.prompt.input_variables = ['input',  'agent_scratchpad']\n"
   ]
  },
  {
   "cell_type": "code",
   "execution_count": 46,
   "id": "09361329",
   "metadata": {},
   "outputs": [],
   "source": [
    "agent.agent.llm_chain.prompt.template = \\\n",
    "'''\n",
    "System: If you use one of the tools, you must answer the person in a respectful manner and give him the source of the product, for example, the name of the product, product specifications, and brand. You should suggest some similar products to him in a way that will make the person actually buy. Give him a detailed answer as if you were the person's personal companion and helped him buy the products. There must be a blank line between each product and another that you submit. Do not forget to provide the source of the product, for example: df.iloc[10]\n",
    "\n",
    "\n",
    "Assistant is a large language model trained by OpenAI.\n",
    "\n",
    "Assistant is designed to be able to assist with a wide range of tasks, from answering simple questions to providing in-depth explanations and discussions on a wide range of topics. As a language model, Assistant is able to generate human-like text based on the input it receives, allowing it to engage in natural-sounding conversations and provide responses that are coherent and relevant to the topic at hand.\n",
    "\n",
    "Assistant is constantly learning and improving, and its capabilities are constantly evolving. It is able to process and understand large amounts of text, and can use this knowledge to provide accurate and informative responses to a wide range of questions. Additionally, Assistant is able to generate its own text based on the input it receives, allowing it to engage in discussions and provide explanations and descriptions on a wide range of topics.\n",
    "\n",
    "Overall, Assistant is a powerful tool that can help with a wide range of tasks and provide valuable insights and information on a wide range of topics. Whether you need help with a specific question or just want to have a conversation about a particular topic, Assistant is here to assist.\n",
    "\n",
    "TOOLS:\n",
    "------\n",
    "\n",
    "Assistant has access to the following tools:\n",
    "\n",
    "> Search_any_products: Useful when you want to answer questions about any products.\n",
    "\n",
    "To use a tool, please use the following format:\n",
    "\n",
    "```\n",
    "Thought: Do I need to use a tool? Yes\n",
    "Action: the action to take, should be one of [Search_any_products]\n",
    "Action Input: the input to the action\n",
    "Observation: the result of the action\n",
    "```\n",
    "\n",
    "When you have a response to say to the Human, or if you do not need to use a tool, you MUST use the format:\n",
    "\n",
    "```\n",
    "Thought: Do I need to use a tool? No\n",
    "AI: [your response here]\n",
    "```\n",
    "\n",
    "Begin!\n",
    "\n",
    "\n",
    "New input: {input}\n",
    "{agent_scratchpad}\n",
    "'''"
   ]
  },
  {
   "cell_type": "markdown",
   "id": "61dab7f0",
   "metadata": {},
   "source": [
    "### Test Agent"
   ]
  },
  {
   "cell_type": "code",
   "execution_count": 48,
   "id": "a835b209",
   "metadata": {},
   "outputs": [
    {
     "name": "stdout",
     "output_type": "stream",
     "text": [
      "> Entering new AgentExecutor chain...\n",
      "\n",
      "Thought: Do I need to use a tool? Yes\n",
      "Action: Search_any_products\n",
      "Action Input: Laptop with powerful specifications for gaming at a price between 600 and 900\n",
      "Observation: [('Source is df.iloc[7]', 'Laptop', 849.0, 'High-performance laptop with Intel Core i7 processor, 16GB RAM, and 1TB SSD storage.', 'Asus'), ('Source is df.iloc[0]', 'Laptop', 799.0, 'High-performance laptop with Intel Core i7 processor, 16GB RAM, and 512GB SSD storage.', 'Dell'), ('Source is df.iloc[14]', 'Laptop', 899.0, 'High-performance laptop with Intel Core i9 processor, 32GB RAM, 1TB SSD storage.', 'MSI'), ('Source is df.iloc[195]', 'Tablet', 629.0, 'Detachable 2-in-1 tablet with 3000 x 2000 IPS display,Intel Core i5 CPU, keyboard with touchpad.', 'Microsoft Surface Pro 7'), ('Source is df.iloc[162]', 'Tablet', 629.0, 'Detachable 2-in-1 tablet with 3000 x 2000 IPS display,Intel Core i5 CPU, keyboard with touchpad.', 'Microsoft Surface Pro 7 '), ('Source is df.iloc[20]', 'Gaming Console', 699.0, 'Cutting edge gaming console with ray tracing, 4K gaming at 120 fps, ultra high speed SSD.', 'Microsoft'), ('Source is df.iloc[26]', 'Gaming Console', 799.0, 'Ultra high speed gaming console with up to 8K 120fps gaming, hardware-accelerated ray tracing, 1TB custom SSD.', 'Microsoft'), ('Source is df.iloc[32]', 'Gaming Console', 499.0, 'Mid-range gaming console with up to 1440p 120fps gaming, 512GB SSD, spatial audio support.', 'Microsoft'), ('Source is df.iloc[6]', 'Gaming Console', 499.0, 'High-performance gaming console with 8K graphics, ultra-fast SSD, and next-gen controllers.', 'Microsoft'), ('Source is df.iloc[13]', 'Gaming Console', 599.0, 'High performance gaming console with 8K graphics, SSD storage and advanced immersive controllers.', 'PlayStation'), ('Source is df.iloc[141]', 'Gaming Console', 499.0, 'Disc-based games console with up to 8K resolution, 3D immersive audio, ultra fast SSD.', 'Xbox Series X'), ('Source is df.iloc[154]', 'Smartphone', 799.0, 'Dual screen foldable smartphone with dual AMOLED displays, Snapdragon 888, 360 hinge.', 'Microsoft Surface Duo 2'), ('Source is df.iloc[17]', 'Camera', 629.0, 'DSLR camera with full-frame 24MP sensor, 4K video, touchscreen LCD and wireless connectivity.', 'Canon '), ('Source is df.iloc[155]', 'Tablet', 529.0, 'Android tablet with integrated kickstand case, 128GB storage, 13MP rotatable camera.', 'Lenovo Yoga Duet 7i'), ('Source is df.iloc[188]', 'Tablet', 529.0, 'Android tablet with integrated kickstand case, 128GB storage, 13MP rotatable camera.', 'Lenovo Yoga Duet 7i '), ('Source is df.iloc[209]', 'Projector', 499.0, '1080p portable mini projector with 200 lumens brightness, built-in rechargeable battery.', 'Anker Nebula Capsule II'), ('Source is df.iloc[144]', 'Camera', 399.0, 'DSLR camera with 24.2MP sensor, 45 point autofocus, vari-angle touchscreen LCD.', 'Canon EOS Rebel T8i'), ('Source is df.iloc[177]', 'Camera', 399.0, 'DSLR camera with 24.2MP sensor, 45 point autofocus, vari-angle touchscreen LCD.', 'Canon EOS Rebel T8i '), ('Source is df.iloc[3]', 'Camera', 499.0, 'DSLR camera with 24MP sensor, interchangeable lenses, and 4K video recording.', 'Canon'), ('Source is df.iloc[35]', 'Camera', 399.0, 'Entry-level DSLR with 24MP APS-C sensor, 1080p video recording, built-in wifi and vari-angle LCD screen.', 'Nikon'), ('Source is df.iloc[138]', 'Camera', 499.0, 'Advanced mirrorless camera with 24.2MP sensor, 4K video recording, weather sealing.', 'Nikon Z6')]\n",
      "Thought:Do I need to use a tool? No\n",
      "AI: Based on your request, I have found several products that may be suitable for you. \n",
      "\n",
      "The Asus laptop (Source: df.iloc[7]) is a high-performance laptop with an Intel Core i7 processor, 16GB RAM, and 1TB SSD storage, and is priced at 849. \n",
      "\n",
      "The Dell laptop (Source: df.iloc[0]) is a high-performance laptop with an Intel Core i7 processor, 16GB RAM, and 512GB SSD storage, and is priced at 799. \n",
      "\n",
      "The MSI laptop (Source: df.iloc[14]) is a high-performance laptop with an Intel Core i9 processor, 32GB RAM, 1TB SSD storage, and is priced at 899. \n",
      "\n",
      "The Microsoft Surface Pro 7 (Source: df.iloc[195]) is a detachable 2-in-1 tablet with a 3000 x 2000 IPS display, Intel Core i5 CPU, and a keyboard with touchpad, and is priced at 629. \n",
      "\n",
      "The Microsoft Surface Pro 7 (Source: df.iloc[162]) is a detachable 2-in-1 tablet with a 3000\n",
      "\n",
      "> Finished chain.\n",
      "\n"
     ]
    }
   ],
   "source": [
    "_2 = agent.run(\"Hello, I would like to buy a laptop with powerful specifications for gaming at a price between 600 and 900\")\n"
   ]
  },
  {
   "cell_type": "code",
   "execution_count": 49,
   "id": "a184f6ac",
   "metadata": {},
   "outputs": [
    {
     "name": "stdout",
     "output_type": "stream",
     "text": [
      "Based on your request, I have found several products that may be suitable for you. \n",
      "\n",
      "The Asus laptop (Source: df.iloc[7]) is a high-performance laptop with an Intel Core i7 processor, 16GB RAM, and 1TB SSD storage, and is priced at 849. \n",
      "\n",
      "The Dell laptop (Source: df.iloc[0]) is a high-performance laptop with an Intel Core i7 processor, 16GB RAM, and 512GB SSD storage, and is priced at 799. \n",
      "\n",
      "The MSI laptop (Source: df.iloc[14]) is a high-performance laptop with an Intel Core i9 processor, 32GB RAM, 1TB SSD storage, and is priced at 899. \n",
      "\n",
      "The Microsoft Surface Pro 7 (Source: df.iloc[195]) is a detachable 2-in-1 tablet with a 3000 x 2000 IPS display, Intel Core i5 CPU, and a keyboard with touchpad, and is priced at 629. \n",
      "\n",
      "The Microsoft Surface Pro 7 (Source: df.iloc[162]) is a detachable 2-in-1 tablet with a 3000\n"
     ]
    }
   ],
   "source": [
    "print(_2)"
   ]
  },
  {
   "cell_type": "code",
   "execution_count": 50,
   "id": "159176bd",
   "metadata": {},
   "outputs": [
    {
     "data": {
      "text/plain": [
       "Product name                                                      Laptop\n",
       "Product price                                                      849.0\n",
       "Product description    High-performance laptop with Intel Core i7 pro...\n",
       "Brand                                                               Asus\n",
       "Name: 7, dtype: object"
      ]
     },
     "execution_count": 50,
     "metadata": {},
     "output_type": "execute_result"
    }
   ],
   "source": [
    "df.iloc[7]"
   ]
  },
  {
   "cell_type": "code",
   "execution_count": null,
   "id": "64f11fce",
   "metadata": {},
   "outputs": [],
   "source": []
  },
  {
   "cell_type": "code",
   "execution_count": null,
   "id": "39dae7a7",
   "metadata": {},
   "outputs": [],
   "source": []
  },
  {
   "cell_type": "code",
   "execution_count": null,
   "id": "e6eb0c72",
   "metadata": {},
   "outputs": [],
   "source": []
  },
  {
   "cell_type": "code",
   "execution_count": null,
   "id": "41841367",
   "metadata": {},
   "outputs": [],
   "source": []
  }
 ],
 "metadata": {
  "kernelspec": {
   "display_name": "Python 3 (ipykernel)",
   "language": "python",
   "name": "python3"
  },
  "language_info": {
   "codemirror_mode": {
    "name": "ipython",
    "version": 3
   },
   "file_extension": ".py",
   "mimetype": "text/x-python",
   "name": "python",
   "nbconvert_exporter": "python",
   "pygments_lexer": "ipython3",
   "version": "3.9.13"
  }
 },
 "nbformat": 4,
 "nbformat_minor": 5
}
